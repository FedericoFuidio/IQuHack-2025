{
 "cells": [
  {
   "cell_type": "markdown",
   "id": "255d7590-bf87-47d8-b0c6-ae67aef1403c",
   "metadata": {},
   "source": [
    "See how to use Shor's algorithm to factor 15 here:    <b><a href=\"https://portal.quantumrings.com/doc/Shors.html\">Shor15</a></b>"
   ]
  },
  {
   "cell_type": "markdown",
   "id": "546dce63-062e-49d0-922a-ab233b397a70",
   "metadata": {},
   "source": [
    "<i><b>Source code to factorize 15</b></i>"
   ]
  },
  {
   "cell_type": "markdown",
   "id": "85955e61-324f-4412-9bac-e6dd69699824",
   "metadata": {},
   "source": [
    "Note: Be sure to use your API token and your account name."
   ]
  },
  {
   "cell_type": "markdown",
   "id": "ef5152de-a79d-4a8e-9870-77a2d13e265e",
   "metadata": {},
   "source": [
    "Step 1. Import the required modules and obtain the backend"
   ]
  },
  {
   "cell_type": "code",
   "execution_count": 1,
   "id": "1098cc1a-6195-4fb4-87bb-9001779b002c",
   "metadata": {},
   "outputs": [
    {
     "data": {
      "text/plain": [
       "{'name': 'cffuidio@gmail.com',\n",
       " 'token': 'rings-200.t2iD6huiMZ4DMUowJyfZFMiW3cGGrqF6',\n",
       " 'max_qubits': '200'}"
      ]
     },
     "execution_count": 1,
     "metadata": {},
     "output_type": "execute_result"
    }
   ],
   "source": [
    "import QuantumRingsLib\n",
    "from QuantumRingsLib import QuantumRegister, AncillaRegister, ClassicalRegister, QuantumCircuit\n",
    "from QuantumRingsLib import QuantumRingsProvider\n",
    "from QuantumRingsLib import job_monitor\n",
    "from QuantumRingsLib import JobStatus\n",
    "from matplotlib import pyplot as plt\n",
    "import numpy as np\n",
    "import math\n",
    "\n",
    "  \n",
    "provider = QuantumRingsProvider(\n",
    "    token='rings-200.t2iD6huiMZ4DMUowJyfZFMiW3cGGrqF6',\n",
    "    name='cffuidio@gmail.com'\n",
    ")\n",
    "backend = provider.get_backend(\"scarlet_quantum_rings\")\n",
    "shots = 1024\n",
    "\n",
    "provider.active_account()"
   ]
  },
  {
   "cell_type": "markdown",
   "id": "f92608ce-86bd-4760-bc1c-ca7e722ae280",
   "metadata": {},
   "source": [
    "Step 2. Define the core methods"
   ]
  },
  {
   "cell_type": "code",
   "execution_count": 2,
   "id": "f32086a1-a980-4d19-8f14-0adcaae9c9c9",
   "metadata": {},
   "outputs": [],
   "source": [
    "def iqft_cct(qc, b, n):\n",
    "    \"\"\"\n",
    "    The inverse QFT circuit\n",
    "\n",
    "    Args:\n",
    "\n",
    "        qc (QuantumCircuit):\n",
    "                The quantum circuit\n",
    "\n",
    "        b (QuantumRegister):\n",
    "                The target register\n",
    "\n",
    "        n (int):\n",
    "                The number of qubits in the registers to use\n",
    "\n",
    "    Returns:\n",
    "        None\n",
    "\n",
    "    \"\"\"\n",
    "\n",
    "    for i in range (n):\n",
    "        for j in range (1, i+1):\n",
    "            # for inverse transform, we have to use negative angles\n",
    "            qc.cu1(  -math.pi / 2** ( i -j + 1 ), b[j - 1], b[i])\n",
    "        # the H transform should be done after the rotations\n",
    "        qc.h(b[i])\n",
    "    qc.barrier()\n",
    "    return\n",
    "\n",
    "def plot_histogram (counts, title=\"\"):\n",
    "    \"\"\"\n",
    "    Plots the histogram of the counts\n",
    "\n",
    "    Args:\n",
    "\n",
    "        counts (dict):\n",
    "            The dictionary containing the counts of states\n",
    "\n",
    "        titles (str):\n",
    "            A title for the graph.\n",
    "\n",
    "    Returns:\n",
    "        None\n",
    "\n",
    "    \"\"\"\n",
    "    fig, ax = plt.subplots(figsize =(10, 7))\n",
    "    plt.xlabel(\"States\")\n",
    "    plt.ylabel(\"Counts\")\n",
    "    mylist = [key for key, val in counts.items() for _ in range(val)]\n",
    "\n",
    "    unique, inverse = np.unique(mylist, return_inverse=True)\n",
    "    bin_counts = np.bincount(inverse)\n",
    "\n",
    "    plt.bar(unique, bin_counts)\n",
    "\n",
    "    maxFreq = max(counts.values())\n",
    "    plt.ylim(ymax=np.ceil(maxFreq / 10) * 10 if maxFreq % 10 else maxFreq + 10)\n",
    "    # Show plot\n",
    "    plt.title(title)\n",
    "    plt.show()\n",
    "    return"
   ]
  },
  {
   "cell_type": "markdown",
   "id": "2f211c13-04db-4f78-b700-5bde24875ab8",
   "metadata": {},
   "source": [
    "Step 3. Perform the algorithm"
   ]
  },
  {
   "cell_type": "code",
   "execution_count": 11,
   "id": "90af8eb2-e56e-46ff-baf2-fed0c08306f9",
   "metadata": {},
   "outputs": [
    {
     "name": "stdout",
     "output_type": "stream",
     "text": [
      "       ┌───┐ ╎                                     ╎ ┌───┐               »\n",
      "q[0]: ■┤ H ├─╎─────────────────────────────────────╎─┤ H ├───────■───────»\n",
      "       ├───┤ ╎                                     ╎ └───┘┌──────┴──────┐»\n",
      "q[1]: ■┤ H ├─╎──────────────────■─────────■────────╎──────┤ U1(-pi/2)   ├»\n",
      "       ├───┤ ╎                  │         │        ╎      └─────────────┘»\n",
      "q[2]: ■┤ H ├─╎───■────■─────────│─────────│────────╎─────────────────────»\n",
      "       └───┘ ╎   │    │       ┌─┴─┐       │        ╎                     »\n",
      "q[3]: ■──────╎───│────│───────┤ X ├──■────│────────╎─────────────────────»\n",
      "             ╎ ┌─┴─┐  │  ┌───┐└─┬─┘  │    │  ┌───┐ ╎                     »\n",
      "q[4]: ■──────╎─┤ X ├──│──┤ X ├──│────│────■──┤ X ├─╎─────────────────────»\n",
      "             ╎ └───┘┌─┴─┐└─┬─┘  │  ┌─┴─┐  │  └─┬─┘ ╎                     »\n",
      "q[5]: ■──────╎──────┤ X ├──│────■──┤ X ├──│────│───╎─────────────────────»\n",
      "       ┌───┐ ╎      └───┘  │       └───┘┌─┴─┐  │   ╎                     »\n",
      "q[6]: ■┤ X ├─╎─────────────■────────────┤ X ├──■───╎─────────────────────»\n",
      "       └───┘ ╎                          └───┘      ╎                     »\n",
      "c: 3/ ■══════════════════════════════════════════════════════════════════»\n",
      "                                                                         »\n",
      "«                                                ╎ ┌───┐           \n",
      "«q[0]: ■────────────■────────────────────────────╎─┤ M ├────────── \n",
      "«       ┌───┐       │                            ╎ └─╥─┘┌───┐      \n",
      "«q[1]: ■┤ H ├───────│──────────────■─────────────╎───║──┤ M ├───── \n",
      "«       └───┘┌──────┴──────┐┌──────┴──────┐┌───┐ ╎   ║  └─╥─┘┌───┐ \n",
      "«q[2]: ■─────┤ U1(-pi/4)   ├┤ U1(-pi/2)   ├┤ H ├─╎───║────║──┤ M ├ \n",
      "«            └─────────────┘└─────────────┘└───┘ ╎   ║    ║  └─╥─┘ \n",
      "«q[3]: ■─────────────────────────────────────────╎───║────║────║── \n",
      "«                                                ╎   ║    ║    ║   \n",
      "«q[4]: ■─────────────────────────────────────────╎───║────║────║── \n",
      "«                                                ╎   ║    ║    ║   \n",
      "«q[5]: ■─────────────────────────────────────────╎───║────║────║── \n",
      "«                                                ╎   ║    ║    ║   \n",
      "«q[6]: ■─────────────────────────────────────────╎───║────║────║── \n",
      "«                                                ╎   ║    ║    ║   \n",
      "«c: 3/ ■═════════════════════════════════════════════╩════╩════╩══ \n",
      "«                                                    0    1    2   \n"
     ]
    }
   ],
   "source": [
    "# Shor’s algorithm to factorize 15 using 7^x mod 15.\n",
    "numberofqubits = 7\n",
    "shots = 1024\n",
    "\n",
    "q = QuantumRegister(numberofqubits , 'q')\n",
    "c = ClassicalRegister(3 , 'c')\n",
    "qc = QuantumCircuit(q, c)\n",
    "\n",
    "# Initialize source and target registers\n",
    "qc.h(0)\n",
    "qc.h(1)\n",
    "qc.h(2)\n",
    "qc.x(6)\n",
    "qc.barrier()\n",
    "\n",
    "# Modular exponentiation 7^x mod 15\n",
    "qc.cx(q[2],q[4] )\n",
    "qc.cx(q[2],q[5] )\n",
    "qc.cx(q[6],q[4] )\n",
    "qc.ccx(q[1],q[5],q[3] )\n",
    "qc.cx(q[3],q[5] )\n",
    "qc.ccx(q[1],q[4],q[6] )\n",
    "qc.cx(q[6],q[4] ) #\n",
    "qc.barrier()\n",
    "\n",
    "# IQFT. Refer to implementation from earlier examples\n",
    "iqft_cct (qc, q, 3)\n",
    "\n",
    "# Measure\n",
    "qc.measure(q[0], c[0])\n",
    "qc.measure(q[1], c[1])\n",
    "qc.measure(q[2], c[2])\n",
    "\n",
    "# Draw the circuit\n",
    "qc.draw(\"mpl\")"
   ]
  },
  {
   "cell_type": "markdown",
   "id": "72783cb3-a464-4a9c-98ac-9ad533f53222",
   "metadata": {},
   "source": [
    "The circuit to factor 15 shown above."
   ]
  },
  {
   "cell_type": "code",
   "execution_count": 12,
   "id": "1923d677-ed19-4892-a44e-66f05fca3406",
   "metadata": {},
   "outputs": [
    {
     "name": "stdout",
     "output_type": "stream",
     "text": [
      "Job Running\n",
      "Job Done.\n",
      "Ending Job Monitor\n"
     ]
    },
    {
     "data": {
      "image/png": "[encoded data removed]",
      "text/plain": [
       "<Figure size 1000x700 with 1 Axes>"
      ]
     },
     "metadata": {},
     "output_type": "display_data"
    }
   ],
   "source": [
    "# Execute the circuit\n",
    "job = backend.run(qc, shots=shots)\n",
    "job_monitor(job)\n",
    "result = job.result()\n",
    "counts = result.get_counts()\n",
    "\n",
    "# visualize\n",
    "plot_histogram(counts)\n",
    "\n",
    "#clean up\n",
    "del q, c, qc\n",
    "del result\n",
    "del job"
   ]
  },
  {
   "cell_type": "markdown",
   "id": "d69fcca9-6545-4f8a-9758-0865e240a57e",
   "metadata": {},
   "source": [
    "A plot of the execution results is shown above. Compare this with the calculated values."
   ]
  },
  {
   "cell_type": "markdown",
   "id": "f4545dfd-da08-4ac1-87c9-b426a92de748",
   "metadata": {},
   "source": [
    "Footnotes\n",
    "\n",
    "[1] This section is based on [10], [14], and [16].\n",
    "\n",
    "[2] https://research.ibm.com/blog/factor-15-shors-algorithm\n",
    "\n",
    "[3] https://en.wikipedia.org/wiki/Integer_factorization_records#Records_for_efforts_by_quantum_computers"
   ]
  }
 ],
 "metadata": {
  "kernelspec": {
   "display_name": "quantumrings_env",
   "language": "python",
   "name": "python3"
  },
  "language_info": {
   "codemirror_mode": {
    "name": "ipython",
    "version": 3
   },
   "file_extension": ".py",
   "mimetype": "text/x-python",
   "name": "python",
   "nbconvert_exporter": "python",
   "pygments_lexer": "ipython3",
   "version": "3.11.11"
  }
 },
 "nbformat": 4,
 "nbformat_minor": 5
}
